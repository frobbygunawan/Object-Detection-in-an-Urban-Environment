{
 "cells": [
  {
   "cell_type": "markdown",
   "metadata": {},
   "source": [
    "# Explore the dataset\n",
    "\n",
    "\n",
    "In this notebook, we will perform an EDA (Exploratory Data Analysis) on the processed Waymo dataset (data in the `processed` folder). In the first part, you will create a function to display "
   ]
  },
  {
   "cell_type": "code",
   "execution_count": null,
   "metadata": {},
   "outputs": [],
   "source": [
    "from utils import get_dataset\n",
    "import glob\n",
    "import matplotlib.pyplot as plt\n",
    "import matplotlib.patches as patches\n",
    "import numpy as np\n",
    "import tensorflow as tf\n",
    "\n",
    "%matplotlib inline"
   ]
  },
  {
   "cell_type": "code",
   "execution_count": null,
   "metadata": {},
   "outputs": [],
   "source": [
    "dataset = get_dataset(\"/home/workspace/data/train/*.tfrecord\")"
   ]
  },
  {
   "cell_type": "markdown",
   "metadata": {},
   "source": [
    "## Write a function to display an image and the bounding boxes\n",
    "\n",
    "Implement the `display_images` function below. This function takes a batch as an input and display an image with its corresponding bounding boxes. The only requirement is that the classes should be color coded (eg, vehicles in red, pedestrians in blue, cyclist in green)."
   ]
  },
  {
   "cell_type": "code",
   "execution_count": null,
   "metadata": {},
   "outputs": [],
   "source": [
    "def display_images(batch):\n",
    "    for idx, data in enumerate(batch):  \n",
    "        # Open the image\n",
    "        image = data['image'].numpy()\n",
    "        width, height, _ = image.shape\n",
    "\n",
    "        # Display the image\n",
    "        fig, ax = plt.subplots(1, figsize=(10,10))\n",
    "        ax.imshow(image)\n",
    "\n",
    "        # Obtain the annotations and bounding boxes\n",
    "        mapping = {1: 'vehicle', 2:'pedestrian', 4:'cyclist'}\n",
    "        xmins = []\n",
    "        xmaxs = []\n",
    "        ymins = []\n",
    "        ymaxs = []\n",
    "        classes_text = []\n",
    "        classes = []\n",
    "\n",
    "        color_map = {1: 'r', 2: 'b', 4:'g'}\n",
    "\n",
    "        for i, each_ann in enumerate(data['groundtruth_boxes'].numpy()):\n",
    "            xmin, ymin = each_ann[1]*width, each_ann[0]*width\n",
    "            xmax, ymax = each_ann[3]*height, each_ann[2]*height\n",
    "            xmins.append(xmin)\n",
    "            xmaxs.append(xmax)\n",
    "            ymins.append(ymin)\n",
    "            ymaxs.append(ymax)\n",
    "            classes.append(data['groundtruth_classes'][i].numpy())\n",
    "            classes_text.append(mapping[data['groundtruth_classes'][i].numpy()])\n",
    "\n",
    "            rec = patches.Rectangle((xmin, ymin), xmax-xmin, ymax-ymin, edgecolor=color_map[data['groundtruth_classes'][i].numpy()], facecolor='none')\n",
    "            ax.add_patch(rec)\n",
    "    "
   ]
  },
  {
   "cell_type": "markdown",
   "metadata": {},
   "source": [
    "## Display 10 images \n",
    "\n",
    "Using the dataset created in the second cell and the function you just coded, display 10 random images with the associated bounding boxes. You can use the methods `take` and `shuffle` on the dataset."
   ]
  },
  {
   "cell_type": "code",
   "execution_count": null,
   "metadata": {},
   "outputs": [],
   "source": [
    "# Display 10 random images in dataset\n",
    "batch = dataset.shuffle(86).take(10)\n",
    "\n",
    "display_images(batch)"
   ]
  },
  {
   "cell_type": "markdown",
   "metadata": {},
   "source": [
    "## Additional EDA\n",
    "\n",
    "In this last part, you are free to perform any additional analysis of the dataset. What else would like to know about the data?\n",
    "For example, think about data distribution. So far, you have only looked at a single file..."
   ]
  },
  {
   "cell_type": "code",
   "execution_count": null,
   "metadata": {},
   "outputs": [],
   "source": [
    "def count_class(dataset):\n",
    "    classes_count = {}\n",
    "    for idx, data in enumerate(dataset):  \n",
    "        # Obtain the annotations and bounding boxes\n",
    "        mapping = {1: 'vehicle', 2:'pedestrian', 4:'cyclist'}\n",
    "        for i, each_ann in enumerate(data['groundtruth_boxes'].numpy()):\n",
    "            class_text = mapping[data['groundtruth_classes'][i].numpy()]\n",
    "            if class_text in classes_count:\n",
    "                classes_count[class_text] += 1\n",
    "            else:\n",
    "                classes_count[class_text] = 1\n",
    "                \n",
    "train_dataset = get_dataset(\"/home/workspace/data/train/*.tfrecord\")\n",
    "val_dataset = get_dataset(\"/home/workspace/data/val/*.tfrecord\")\n",
    "train_dist = count_class(train_dataset)\n",
    "val_dist = count_class(val_dataset)\n",
    "\n",
    "fig, ax = plt.subplots(1, 2, figsize=(15,15))\n",
    "ax[:, 0].bar(list(train_dist.keys()), list(train_dist.values()))\n",
    "ax[:, 0].set_title('Training Data')\n",
    "ax[:, 1].bar(list(val_dist.keys()), list(val_dist.values()))\n",
    "ax[:, 1].set_title('Validation Data')"
   ]
  },
  {
   "cell_type": "code",
   "execution_count": null,
   "metadata": {},
   "outputs": [],
   "source": []
  }
 ],
 "metadata": {
  "kernelspec": {
   "display_name": "Python 3",
   "language": "python",
   "name": "python3"
  },
  "language_info": {
   "codemirror_mode": {
    "name": "ipython",
    "version": 3
   },
   "file_extension": ".py",
   "mimetype": "text/x-python",
   "name": "python",
   "nbconvert_exporter": "python",
   "pygments_lexer": "ipython3",
   "version": "3.7.3"
  }
 },
 "nbformat": 4,
 "nbformat_minor": 4
}
